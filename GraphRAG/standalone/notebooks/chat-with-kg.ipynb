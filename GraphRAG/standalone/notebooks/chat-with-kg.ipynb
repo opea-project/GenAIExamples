{
 "cells": [
  {
   "cell_type": "markdown",
   "metadata": {
    "collapsed": false,
    "jupyter": {
     "outputs_hidden": false
    }
   },
   "source": [
    "# Chatting with the Knowledge Graph\n",
    "\n"
   ]
  },
  {
   "cell_type": "markdown",
   "metadata": {},
   "source": [
    "## Setup"
   ]
  },
  {
   "cell_type": "code",
   "execution_count": 23,
   "metadata": {},
   "outputs": [],
   "source": [
    "import os\n",
    "\n",
    "from dotenv import load_dotenv\n",
    "\n",
    "from langchain_community.graphs import Neo4jGraph\n",
    "from langchain_openai import ChatOpenAI\n",
    "from neo4j import GraphDatabase\n",
    "\n",
    "from langchain.prompts.prompt import PromptTemplate\n",
    "from langchain_core.prompts import ChatPromptTemplate\n",
    "from langchain.chains import GraphCypherQAChain\n",
    "\n",
    "\n",
    "# Load from environment\n",
    "load_dotenv('../.env', override=True)\n",
    "NEO4J_URI = os.getenv('NEO4J_URI')\n",
    "NEO4J_USERNAME = os.getenv('NEO4J_USERNAME')\n",
    "NEO4J_PASSWORD = os.getenv('NEO4J_PASSWORD')\n",
    "NEO4J_DATABASE = os.getenv('NEO4J_DATABASE')\n",
    "OPENAI_API_KEY = os.getenv('OPENAI_API_KEY')\n",
    "GOOGLE_MAPS_API_KEY = os.getenv('GOOGLE_MAPS_API_KEY')\n",
    "\n",
    "# Global constants\n",
    "VECTOR_INDEX_NAME = 'form_10k_chunks'\n",
    "VECTOR_NODE_LABEL = 'Chunk'\n",
    "VECTOR_SOURCE_PROPERTY = 'text'\n",
    "VECTOR_EMBEDDING_PROPERTY = 'textEmbedding'\n",
    "\n",
    "\n",
    "IMPORT_DATA_DIRECTORY = '../data/sample/'\n",
    "\n",
    "if OPENAI_API_KEY is None:\n",
    "  raise ValueError(\"OPENAI_API_KEY is not set. Please add it to your .env file.\")\n",
    "\n",
    "kg = Neo4jGraph(\n",
    "    url=NEO4J_URI, username=NEO4J_USERNAME, password=NEO4J_PASSWORD, database=NEO4J_DATABASE\n",
    ")\n",
    "gdb = GraphDatabase.driver(NEO4J_URI, auth=(NEO4J_USERNAME, NEO4J_PASSWORD) )\n"
   ]
  },
  {
   "cell_type": "markdown",
   "metadata": {},
   "source": [
    "# Cypher - queries about addresses\n"
   ]
  },
  {
   "cell_type": "code",
   "execution_count": 3,
   "metadata": {},
   "outputs": [
    {
     "data": {
      "text/plain": [
       "[<Record node.name='Royal Bank of Canada' score=4.431276321411133>]"
      ]
     },
     "execution_count": 3,
     "metadata": {},
     "output_type": "execute_result"
    }
   ],
   "source": [
    "# Tell me about a manager named royal bank\n",
    "gdb.execute_query(\"\"\"\n",
    "  CALL db.index.fulltext.queryNodes(\n",
    "         \"fullTextManagerNames\", \n",
    "         \"royal bank\") YIELD node, score\n",
    "  RETURN node.name, score LIMIT 1\n",
    "\"\"\").records"
   ]
  },
  {
   "cell_type": "code",
   "execution_count": 4,
   "metadata": {},
   "outputs": [
    {
     "data": {
      "text/plain": [
       "[<Record mgr.name='Royal Bank of Canada' addr=<Node element_id='4:7018e0eb-4cdc-47a8-a756-5c2a5bc2343f:3303' labels=frozenset({'Address'}) properties={'country': 'Canada', 'city': 'Toronto', 'location': POINT(-79.3805647 43.6508267), 'state': 'Ontario'}>>]"
      ]
     },
     "execution_count": 4,
     "metadata": {},
     "output_type": "execute_result"
    }
   ],
   "source": [
    "# What is the location of royal bank?\n",
    "gdb.execute_query(\"\"\"\n",
    "CALL db.index.fulltext.queryNodes(\n",
    "         \"fullTextManagerNames\", \n",
    "         \"royal bank\"\n",
    "  ) YIELD node, score\n",
    "WITH node as mgr LIMIT 1\n",
    "MATCH (mgr:Manager)-[:LOCATED_AT]->(addr:Address)\n",
    "RETURN mgr.name, addr\n",
    "\"\"\").records"
   ]
  },
  {
   "cell_type": "code",
   "execution_count": 5,
   "metadata": {},
   "outputs": [
    {
     "data": {
      "text/plain": [
       "[{'state': 'New York', 'numManagers': 303},\n",
       " {'state': 'California', 'numManagers': 302},\n",
       " {'state': 'Massachusetts', 'numManagers': 147},\n",
       " {'state': 'Pennsylvania', 'numManagers': 138},\n",
       " {'state': 'Texas', 'numManagers': 125},\n",
       " {'state': 'Illinois', 'numManagers': 121},\n",
       " {'state': 'Florida', 'numManagers': 116},\n",
       " {'state': 'Connecticut', 'numManagers': 77},\n",
       " {'state': 'Ohio', 'numManagers': 76},\n",
       " {'state': 'New Jersey', 'numManagers': 69}]"
      ]
     },
     "execution_count": 5,
     "metadata": {},
     "output_type": "execute_result"
    }
   ],
   "source": [
    "# Which state has the most investment firms?\n",
    "kg.query(\"\"\"\n",
    "  MATCH p=(:Manager)-[:LOCATED_AT]->(address:Address)\n",
    "  RETURN address.state as state, count(address.state) as numManagers\n",
    "    ORDER BY numManagers DESC\n",
    "    LIMIT 10\n",
    "\"\"\")"
   ]
  },
  {
   "cell_type": "code",
   "execution_count": 7,
   "metadata": {},
   "outputs": [
    {
     "data": {
      "text/plain": [
       "[{'state': 'California', 'numCompanies': 7},\n",
       " {'state': 'Delaware', 'numCompanies': 1},\n",
       " {'state': 'New York', 'numCompanies': 1},\n",
       " {'state': 'Oregon', 'numCompanies': 1}]"
      ]
     },
     "execution_count": 7,
     "metadata": {},
     "output_type": "execute_result"
    }
   ],
   "source": [
    "# Which state has the most public companies listed?\n",
    "kg.query(\"\"\"\n",
    "  MATCH p=(:Company)-[:LOCATED_AT]->(address:Address)\n",
    "  RETURN address.state as state, count(address.state) as numCompanies\n",
    "    ORDER BY numCompanies DESC\n",
    "\"\"\")"
   ]
  },
  {
   "cell_type": "code",
   "execution_count": 8,
   "metadata": {},
   "outputs": [
    {
     "data": {
      "text/plain": [
       "[{'city': 'San Francisco', 'numManagers': 48},\n",
       " {'city': 'Los Angeles', 'numManagers': 44},\n",
       " {'city': 'San Diego', 'numManagers': 17},\n",
       " {'city': 'Pasadena', 'numManagers': 13},\n",
       " {'city': 'Menlo Park', 'numManagers': 9},\n",
       " {'city': 'Newport Beach', 'numManagers': 9},\n",
       " {'city': 'Irvine', 'numManagers': 9},\n",
       " {'city': 'Walnut Creek', 'numManagers': 8},\n",
       " {'city': 'Palo Alto', 'numManagers': 6},\n",
       " {'city': 'Lafayette', 'numManagers': 6}]"
      ]
     },
     "execution_count": 8,
     "metadata": {},
     "output_type": "execute_result"
    }
   ],
   "source": [
    "# What are the cities in California with the most investment firms?\n",
    "kg.query(\"\"\"\n",
    "  MATCH p=(:Manager)-[:LOCATED_AT]->(address:Address)\n",
    "         WHERE address.state = 'California'\n",
    "  RETURN address.city as city, count(address.city) as numManagers\n",
    "    ORDER BY numManagers DESC\n",
    "    LIMIT 10\n",
    "\"\"\")"
   ]
  },
  {
   "cell_type": "code",
   "execution_count": 9,
   "metadata": {},
   "outputs": [
    {
     "data": {
      "text/plain": [
       "[{'city': 'Santa Clara', 'numCompanies': 3},\n",
       " {'city': 'San Jose', 'numCompanies': 2},\n",
       " {'city': 'Sunnyvale', 'numCompanies': 1},\n",
       " {'city': 'Cupertino', 'numCompanies': 1}]"
      ]
     },
     "execution_count": 9,
     "metadata": {},
     "output_type": "execute_result"
    }
   ],
   "source": [
    "# Which city in California has the most companies listed?\n",
    "kg.query(\"\"\"\n",
    "  MATCH p=(:Company)-[:LOCATED_AT]->(address:Address)\n",
    "         WHERE address.state = 'California'\n",
    "  RETURN address.city as city, count(address.city) as numCompanies\n",
    "    ORDER BY numCompanies DESC\n",
    "\"\"\")"
   ]
  },
  {
   "cell_type": "code",
   "execution_count": 10,
   "metadata": {},
   "outputs": [
    {
     "name": "stderr",
     "output_type": "stream",
     "text": [
      "Received notification from DBMS server: {severity: WARNING} {code: Neo.ClientNotification.Statement.UnknownPropertyKeyWarning} {category: UNRECOGNIZED} {title: The provided property key is not in the database} {description: One of the property names in your query is not available in the database, make sure you didn't misspell it or that the label is available when you run this statement in your application (the missing property name is: managerName)} {position: line: 5, column: 14, offset: 166} for query: '\\n  MATCH p=(mgr:Manager)-[:LOCATED_AT]->(address:Address),\\n         (mgr)-[owns:OWNS_STOCK_IN]->(:Company)\\n         WHERE address.city = \"San Francisco\"\\n  RETURN mgr.managerName as city, sum(owns.value) as totalInvestmentValue\\n    ORDER BY totalInvestmentValue DESC\\n    LIMIT 10\\n'\n"
     ]
    },
    {
     "data": {
      "text/plain": [
       "[{'city': None, 'totalInvestmentValue': 9393919041000.0}]"
      ]
     },
     "execution_count": 10,
     "metadata": {},
     "output_type": "execute_result"
    }
   ],
   "source": [
    "# What are top investment firms in San Francisco?\n",
    "kg.query(\"\"\"\n",
    "  MATCH p=(mgr:Manager)-[:LOCATED_AT]->(address:Address),\n",
    "         (mgr)-[owns:OWNS_STOCK_IN]->(:Company)\n",
    "         WHERE address.city = \"San Francisco\"\n",
    "  RETURN mgr.managerName as city, sum(owns.value) as totalInvestmentValue\n",
    "    ORDER BY totalInvestmentValue DESC\n",
    "    LIMIT 10\n",
    "\"\"\")"
   ]
  },
  {
   "cell_type": "code",
   "execution_count": 12,
   "metadata": {},
   "outputs": [
    {
     "data": {
      "text/plain": [
       "[{'com.name': 'PALO ALTO NETWORKS INC'},\n",
       " {'com.name': 'SEAGATE TECHNOLOGY'},\n",
       " {'com.name': 'ATLASSIAN CORP PLC'}]"
      ]
     },
     "execution_count": 12,
     "metadata": {},
     "output_type": "execute_result"
    }
   ],
   "source": [
    "# What companies are in Santa Clara?\n",
    "kg.query(\"\"\"\n",
    "  MATCH (com:Company)-[:LOCATED_AT]->(address:Address)\n",
    "         WHERE address.city = \"Santa Clara\"\n",
    "  RETURN com.name\n",
    "\"\"\")"
   ]
  },
  {
   "cell_type": "code",
   "execution_count": 16,
   "metadata": {},
   "outputs": [
    {
     "data": {
      "text/plain": [
       "[{'com.name': 'PALO ALTO NETWORKS INC',\n",
       "  'com.address': '3000 Tannery Way, Santa Clara, CA 95054, USA'},\n",
       " {'com.name': 'NETAPP INC',\n",
       "  'com.address': 'Headquarters Dr, San Jose, CA 95134, USA'},\n",
       " {'com.name': 'WESTERN DIGITAL CORP.', 'com.address': 'San Jose, CA, USA'},\n",
       " {'com.name': 'SEAGATE TECHNOLOGY',\n",
       "  'com.address': '2445 Augustine Dr, Santa Clara, CA 95054, USA'},\n",
       " {'com.name': 'ATLASSIAN CORP PLC', 'com.address': 'Santa Clara, CA, USA'}]"
      ]
     },
     "execution_count": 16,
     "metadata": {},
     "output_type": "execute_result"
    }
   ],
   "source": [
    "# What companies are near Santa Clara?\n",
    "kg.query(\"\"\"\n",
    "  MATCH (address:Address)\n",
    "    WHERE address.city = \"Santa Clara\"\n",
    "  MATCH (com:Company)-[:LOCATED_AT]->(companyAddress:Address)\n",
    "    WHERE point.distance(address.location, companyAddress.location) < 10000\n",
    "  RETURN com.name, com.address\n",
    "\"\"\")"
   ]
  },
  {
   "cell_type": "code",
   "execution_count": 18,
   "metadata": {},
   "outputs": [
    {
     "data": {
      "text/plain": [
       "[{'city': 'San Francisco', 'numManagers': 48},\n",
       " {'city': 'Los Angeles', 'numManagers': 44},\n",
       " {'city': 'San Diego', 'numManagers': 17},\n",
       " {'city': 'Pasadena', 'numManagers': 13},\n",
       " {'city': 'Menlo Park', 'numManagers': 9},\n",
       " {'city': 'Newport Beach', 'numManagers': 9},\n",
       " {'city': 'Irvine', 'numManagers': 9},\n",
       " {'city': 'Walnut Creek', 'numManagers': 8},\n",
       " {'city': 'Palo Alto', 'numManagers': 6},\n",
       " {'city': 'Lafayette', 'numManagers': 6}]"
      ]
     },
     "execution_count": 18,
     "metadata": {},
     "output_type": "execute_result"
    }
   ],
   "source": [
    "# Which city in California has the most management firms listed?\n",
    "kg.query(\"\"\"\n",
    "  MATCH p=(:Manager)-[:LOCATED_AT]->(address:Address)\n",
    "         WHERE address.state = 'California'\n",
    "  RETURN address.city as city, count(address.city) as numManagers\n",
    "    ORDER BY numManagers DESC LIMIT 10\n",
    "\"\"\")"
   ]
  },
  {
   "cell_type": "code",
   "execution_count": 15,
   "metadata": {},
   "outputs": [
    {
     "data": {
      "text/plain": [
       "[]"
      ]
     },
     "execution_count": 15,
     "metadata": {},
     "output_type": "execute_result"
    }
   ],
   "source": [
    "# What investment firms are near Santa Clara?\n",
    "kg.query(\"\"\"\n",
    "  MATCH (address:Address)\n",
    "    WHERE address.city = \"Santa Clara\"\n",
    "  MATCH (mgr:Manager)-[:LOCATED_AT]->(managerAddress:Address)\n",
    "    WHERE point.distance(address.location, managerAddress.location) < 10000\n",
    "  RETURN mgr.name, mgr.address\n",
    "\"\"\")"
   ]
  },
  {
   "cell_type": "code",
   "execution_count": 21,
   "metadata": {},
   "outputs": [
    {
     "data": {
      "text/plain": [
       "[{'mgr.name': 'SCHARF INVESTMENTS, LLC',\n",
       "  'mgr.address': '16450 LOS GATOS BLVD, SUITE 207, LOS GATOS, CA, 95032',\n",
       "  'distanceKm': 6},\n",
       " {'mgr.name': 'Comprehensive Financial Management LLC',\n",
       "  'mgr.address': '720 University Avenue, Suite 200, Los Gatos, CA, 95032',\n",
       "  'distanceKm': 6},\n",
       " {'mgr.name': 'Legacy Capital Group California, Inc.',\n",
       "  'mgr.address': '459 MONTEREY AVENUE, SUITE 100, LOS GATOS, CA, 95030',\n",
       "  'distanceKm': 6},\n",
       " {'mgr.name': 'AIMZ Investment Advisors, LLC',\n",
       "  'mgr.address': '4984 EL CAMINO REAL, SUITE 101, LOS ALTOS, CA, 94022',\n",
       "  'distanceKm': 7},\n",
       " {'mgr.name': 'Family CFO Inc',\n",
       "  'mgr.address': '1064 LAURELES DRIVE, LOS ALTOS, CA, 94022',\n",
       "  'distanceKm': 7}]"
      ]
     },
     "execution_count": 21,
     "metadata": {},
     "output_type": "execute_result"
    }
   ],
   "source": [
    "# Which investment firms are near Palo Aalto Networks?\n",
    "kg.query(\"\"\"\n",
    "  CALL db.index.fulltext.queryNodes(\n",
    "         \"fullTextCompanyNames\", \n",
    "         \"Palo Aalto Networks\"\n",
    "         ) YIELD node, score\n",
    "  WITH node as com\n",
    "  MATCH (com)-[:LOCATED_AT]->(comAddress:Address),\n",
    "    (mgr:Manager)-[:LOCATED_AT]->(mgrAddress:Address)\n",
    "    WHERE point.distance(comAddress.location, mgrAddress.location) < 20000\n",
    "  RETURN mgr.name, mgr.address,\n",
    "    toInteger(point.distance(comAddress.location, mgrAddress.location) / 2000) as distanceKm\n",
    "    ORDER BY distanceKm ASC\n",
    "    LIMIT 10\n",
    "\"\"\")"
   ]
  },
  {
   "cell_type": "code",
   "execution_count": 22,
   "metadata": {},
   "outputs": [],
   "source": [
    "CYPHER_GENERATION_TEMPLATE = \"\"\"Task:Generate Cypher statement to query a graph database.\n",
    "Instructions:\n",
    "Use only the provided relationship types and properties in the schema.\n",
    "Do not use any other relationship types or properties that are not provided.\n",
    "Schema:\n",
    "{schema}\n",
    "Note: Do not include any explanations or apologies in your responses.\n",
    "Do not respond to any questions that might ask anything else than for you to construct a Cypher statement.\n",
    "Do not include any text except the generated Cypher statement.\n",
    "Examples: Here are a few examples of generated Cypher statements for particular questions:\n",
    "\n",
    "# What are the top investment firms are in San Francisco?\n",
    "MATCH (mgr:Manager)-[:LOCATED_AT]->(mgrAddress:Address)\n",
    "    WHERE mgrAddress.city = 'San Francisco'\n",
    "RETURN mgr.managerName\n",
    "\n",
    "# What companies are in Santa Clara?\n",
    "MATCH (com:Company)-[:LOCATED_AT]->(comAddress:Address)\n",
    "    WHERE comAddress.city = 'Santa Clara'\n",
    "RETURN com.companyName\n",
    "\n",
    "# What investment firms are near Santa Clara?\n",
    "  MATCH (address:Address)\n",
    "    WHERE address.city = \"Santa Clara\"\n",
    "  MATCH (mgr:Manager)-[:LOCATED_AT]->(managerAddress:Address)\n",
    "    WHERE point.distance(address.location, managerAddress.location) < 20 * 1000\n",
    "  RETURN mgr.managerName, mgr.managerAddress\n",
    "\n",
    "# Which investment firms are near Palo Aalto Networks?\n",
    "  CALL db.index.fulltext.queryNodes(\n",
    "         \"fullTextCompanyNames\", \n",
    "         \"Palo Aalto Networks\"\n",
    "         ) YIELD node, score\n",
    "  WITH node as com\n",
    "  MATCH (com)-[:LOCATED_AT]->(comAddress:Address),\n",
    "    (mgr:Manager)-[:LOCATED_AT]->(mgrAddress:Address)\n",
    "    WHERE point.distance(comAddress.location, mgrAddress.location) < 20 * 1000\n",
    "  RETURN mgr, \n",
    "    toInteger(point.distance(comAddress.location, mgrAddress.location) / 1000) as distanceKm\n",
    "    ORDER BY distanceKm ASC\n",
    "    LIMIT 10\n",
    "  \n",
    "The question is:\n",
    "{question}\"\"\""
   ]
  },
  {
   "cell_type": "code",
   "execution_count": 25,
   "metadata": {},
   "outputs": [],
   "source": [
    "import textwrap\n",
    "\n",
    "CYPHER_GENERATION_PROMPT = PromptTemplate(\n",
    "    input_variables=[\"schema\", \"question\"], template=CYPHER_GENERATION_TEMPLATE\n",
    ")\n",
    "\n",
    "cypherChain = GraphCypherQAChain.from_llm(\n",
    "    ChatOpenAI(temperature=0),\n",
    "    graph=kg,\n",
    "    verbose=True,\n",
    "    allow_dangerous_requests=True,\n",
    "    cypher_prompt=CYPHER_GENERATION_PROMPT,\n",
    ")\n",
    "\n",
    "def prettyCypherChain(question: str) -> str:\n",
    "    response = cypherChain.run(question)\n",
    "    print(textwrap.fill(response, 60))\n"
   ]
  },
  {
   "cell_type": "code",
   "execution_count": 28,
   "metadata": {},
   "outputs": [
    {
     "name": "stdout",
     "output_type": "stream",
     "text": [
      "\n",
      "\n",
      "\u001b[1m> Entering new GraphCypherQAChain chain...\u001b[0m\n",
      "Generated Cypher:\n",
      "\u001b[32;1m\u001b[1;3mMATCH (mgr:Manager)-[:LOCATED_AT]->(mgrAddress:Address)\n",
      "    WHERE mgrAddress.city = 'San Francisco'\n",
      "RETURN mgr.name\u001b[0m\n",
      "Full Context:\n",
      "\u001b[32;1m\u001b[1;3m[{'mgr.name': 'OSBORNE PARTNERS CAPITAL MANAGEMENT, LLC'}, {'mgr.name': 'OSTERWEIS CAPITAL MANAGEMENT INC'}, {'mgr.name': 'JACOBS & CO/CA'}, {'mgr.name': 'VAN STRUM & TOWNE INC.'}, {'mgr.name': 'RBF Capital, LLC'}, {'mgr.name': 'ALGERT GLOBAL LLC'}, {'mgr.name': 'WETHERBY ASSET MANAGEMENT INC'}, {'mgr.name': 'Avalon Global Asset Management LLC'}, {'mgr.name': 'Pacific Heights Asset Management LLC'}, {'mgr.name': 'Violich Capital Management, Inc.'}]\u001b[0m\n",
      "\n",
      "\u001b[1m> Finished chain.\u001b[0m\n",
      "I don't know the answer.\n"
     ]
    }
   ],
   "source": [
    "prettyCypherChain(\"What investment firms are in San Francisco?\")"
   ]
  },
  {
   "cell_type": "code",
   "execution_count": 27,
   "metadata": {},
   "outputs": [
    {
     "name": "stdout",
     "output_type": "stream",
     "text": [
      "\n",
      "\n",
      "\u001b[1m> Entering new GraphCypherQAChain chain...\u001b[0m\n",
      "Generated Cypher:\n",
      "\u001b[32;1m\u001b[1;3mMATCH (com:Company)-[:LOCATED_AT]->(comAddress:Address)\n",
      "WHERE comAddress.city = 'Santa Clara'\n",
      "RETURN com.name\u001b[0m\n",
      "Full Context:\n",
      "\u001b[32;1m\u001b[1;3m[{'com.name': 'PALO ALTO NETWORKS INC'}, {'com.name': 'SEAGATE TECHNOLOGY'}, {'com.name': 'ATLASSIAN CORP PLC'}]\u001b[0m\n",
      "\n",
      "\u001b[1m> Finished chain.\u001b[0m\n",
      "PALO ALTO NETWORKS INC, SEAGATE TECHNOLOGY, ATLASSIAN CORP\n",
      "PLC are in Santa Clara.\n"
     ]
    }
   ],
   "source": [
    "prettyCypherChain(\"What companies are in Santa Clara?\")"
   ]
  },
  {
   "cell_type": "code",
   "execution_count": 29,
   "metadata": {},
   "outputs": [
    {
     "name": "stdout",
     "output_type": "stream",
     "text": [
      "\n",
      "\n",
      "\u001b[1m> Entering new GraphCypherQAChain chain...\u001b[0m\n",
      "Generated Cypher:\n",
      "\u001b[32;1m\u001b[1;3mMATCH (address:Address)\n",
      "    WHERE address.city = \"Santa Clara\"\n",
      "MATCH (mgr:Manager)-[:LOCATED_AT]->(managerAddress:Address)\n",
      "    WHERE point.distance(address.location, managerAddress.location) < 20 * 1000\n",
      "RETURN mgr.name, mgr.address\u001b[0m\n",
      "Full Context:\n",
      "\u001b[32;1m\u001b[1;3m[{'mgr.name': 'SCHARF INVESTMENTS, LLC', 'mgr.address': '16450 LOS GATOS BLVD, SUITE 207, LOS GATOS, CA, 95032'}, {'mgr.name': 'Comprehensive Financial Management LLC', 'mgr.address': '720 University Avenue, Suite 200, Los Gatos, CA, 95032'}, {'mgr.name': 'Legacy Capital Group California, Inc.', 'mgr.address': '459 MONTEREY AVENUE, SUITE 100, LOS GATOS, CA, 95030'}, {'mgr.name': 'AIMZ Investment Advisors, LLC', 'mgr.address': '4984 EL CAMINO REAL, SUITE 101, LOS ALTOS, CA, 94022'}, {'mgr.name': 'Family CFO Inc', 'mgr.address': '1064 LAURELES DRIVE, LOS ALTOS, CA, 94022'}]\u001b[0m\n",
      "\n",
      "\u001b[1m> Finished chain.\u001b[0m\n",
      "SCHARF INVESTMENTS, LLC, Comprehensive Financial Management\n",
      "LLC, and Legacy Capital Group California, Inc. are near\n",
      "Santa Clara.\n"
     ]
    }
   ],
   "source": [
    "prettyCypherChain(\"What investment firms are near Santa Clara?\")"
   ]
  },
  {
   "cell_type": "code",
   "execution_count": 30,
   "metadata": {},
   "outputs": [
    {
     "name": "stdout",
     "output_type": "stream",
     "text": [
      "\n",
      "\n",
      "\u001b[1m> Entering new GraphCypherQAChain chain...\u001b[0m\n",
      "Generated Cypher:\n",
      "\u001b[32;1m\u001b[1;3mCALL db.index.fulltext.queryNodes(\n",
      "     \"fullTextCompanyNames\", \n",
      "     \"Palo Aalto Networks\"\n",
      "     ) YIELD node, score\n",
      "WITH node as com\n",
      "MATCH (com)-[:LOCATED_AT]->(comAddress:Address),\n",
      "  (mgr:Manager)-[:LOCATED_AT]->(mgrAddress:Address)\n",
      "  WHERE point.distance(comAddress.location, mgrAddress.location) < 20 * 1000\n",
      "RETURN mgr, \n",
      "  toInteger(point.distance(comAddress.location, mgrAddress.location) / 1000) as distanceKm\n",
      "  ORDER BY distanceKm ASC\n",
      "  LIMIT 10\u001b[0m\n",
      "Full Context:\n",
      "\u001b[32;1m\u001b[1;3m[{'mgr': {'address': '16450 LOS GATOS BLVD, SUITE 207, LOS GATOS, CA, 95032', 'cik': '1463746', 'name': 'SCHARF INVESTMENTS, LLC', 'location': POINT(-121.9652627 37.2298178)}, 'distanceKm': 13}, {'mgr': {'address': '720 University Avenue, Suite 200, Los Gatos, CA, 95032', 'cik': '1799802', 'name': 'Comprehensive Financial Management LLC', 'location': POINT(-121.9302449 37.2260616)}, 'distanceKm': 13}, {'mgr': {'address': '459 MONTEREY AVENUE, SUITE 100, LOS GATOS, CA, 95030', 'cik': '1977092', 'name': 'Legacy Capital Group California, Inc.', 'location': POINT(-121.9812582 37.2317728)}, 'distanceKm': 13}, {'mgr': {'address': '4984 EL CAMINO REAL, SUITE 101, LOS ALTOS, CA, 94022', 'cik': '1630365', 'name': 'AIMZ Investment Advisors, LLC', 'location': POINT(-122.105859 37.397132)}, 'distanceKm': 15}, {'mgr': {'address': '1064 LAURELES DRIVE, LOS ALTOS, CA, 94022', 'cik': '1911695', 'name': 'Family CFO Inc', 'location': POINT(-122.1239043 37.4017989)}, 'distanceKm': 15}]\u001b[0m\n",
      "\n",
      "\u001b[1m> Finished chain.\u001b[0m\n",
      "SCHARF INVESTMENTS, LLC, Comprehensive Financial Management\n",
      "LLC, and Legacy Capital Group California, Inc. are near Palo\n",
      "Alto Networks.\n"
     ]
    }
   ],
   "source": [
    "prettyCypherChain(\"Which investment firms are near Palo Aalto Networks?\")"
   ]
  },
  {
   "cell_type": "code",
   "execution_count": null,
   "metadata": {},
   "outputs": [],
   "source": []
  }
 ],
 "metadata": {
  "kernelspec": {
   "display_name": ".venv",
   "language": "python",
   "name": "python3"
  },
  "language_info": {
   "codemirror_mode": {
    "name": "ipython",
    "version": 3
   },
   "file_extension": ".py",
   "mimetype": "text/x-python",
   "name": "python",
   "nbconvert_exporter": "python",
   "pygments_lexer": "ipython3",
   "version": "3.12.6"
  }
 },
 "nbformat": 4,
 "nbformat_minor": 4
}
